{
 "cells": [
  {
   "cell_type": "code",
   "execution_count": null,
   "metadata": {},
   "outputs": [],
   "source": [
    "import pandas as pd\n",
    "import seaborn as sns\n",
    "from plotnine import aes, geom_line, geom_point, ggplot, labs, theme, theme_bw\n",
    "\n",
    "from lstm_autoencoder.data.preprocessing import scale_data, train_test_val_split\n",
    "from lstm_autoencoder.data.simulation import simulate_ecg_data\n",
    "from lstm_autoencoder.data.windowed_dataset import get_windowed_datasets\n",
    "from lstm_autoencoder.models.autoencoder import create_prediction, train_lstm_autoencoder\n",
    "\n",
    "scale = True"
   ]
  },
  {
   "cell_type": "markdown",
   "metadata": {},
   "source": [
    "## Data Simulation"
   ]
  },
  {
   "cell_type": "code",
   "execution_count": null,
   "metadata": {},
   "outputs": [],
   "source": [
    "df = simulate_ecg_data(n_beats=500, fs=50, peak_width_factor=10)\n",
    "# taking only ecg_amplitude column for training\n",
    "df = df[[\"ecg_amplitude\"]]\n",
    "\n",
    "train, val, test = train_test_val_split(df)\n",
    "\n",
    "len(train)"
   ]
  },
  {
   "cell_type": "code",
   "execution_count": null,
   "metadata": {},
   "outputs": [],
   "source": [
    "sns.lineplot(data=train[:200], x=train[:200].index, y=\"ecg_amplitude\")"
   ]
  },
  {
   "cell_type": "markdown",
   "metadata": {},
   "source": [
    "## Data Preprocessing"
   ]
  },
  {
   "cell_type": "code",
   "execution_count": null,
   "metadata": {},
   "outputs": [],
   "source": [
    "if scale:\n",
    "    scaler_filename = \"../data/02_intermediate/scaler.pkl\"\n",
    "    train, val, test = scale_data(train, test, val, scaler_path=scaler_filename)\n",
    "\n",
    "    sns.lineplot(data=train[:100], x=train[:100].index, y=\"ecg_amplitude\")"
   ]
  },
  {
   "cell_type": "code",
   "execution_count": null,
   "metadata": {},
   "outputs": [],
   "source": [
    "prep_params = {\n",
    "    \"window_size\": 60,\n",
    "    \"window_shift\": 1,\n",
    "    \"split_model_method\": \"kendall\",\n",
    "    \"split_model_th\": 0.9,\n",
    "    \"split_model_th_aux\": 0.9,\n",
    "}\n",
    "tf_train, tf_val, tf_test = get_windowed_datasets(train, val, test, prep_params)"
   ]
  },
  {
   "cell_type": "markdown",
   "metadata": {},
   "source": [
    "## Model Training"
   ]
  },
  {
   "cell_type": "code",
   "execution_count": null,
   "metadata": {},
   "outputs": [],
   "source": [
    "train_params = {\n",
    "    \"batch_size\": 256,\n",
    "    \"shuffle\": False,\n",
    "    \"min_epochs\": 10,\n",
    "    \"max_epochs\": 100,\n",
    "    \"train_device\": \"cpu\",\n",
    "    \"train_workers\": 1,\n",
    "    \"load_workers\": 0,\n",
    "}\n",
    "\n",
    "model = train_lstm_autoencoder(\n",
    "    tf_train.data_windowed,\n",
    "    tf_val.data_windowed,\n",
    "    strategy=\"auto\",\n",
    "    window_size=prep_params[\"window_size\"],\n",
    "    train_params=train_params,\n",
    "    save_path=\"../data/03_models\",\n",
    "    compression_factor=1.25,\n",
    ")"
   ]
  },
  {
   "cell_type": "markdown",
   "metadata": {},
   "source": [
    "## Inference & Plotting"
   ]
  },
  {
   "cell_type": "code",
   "execution_count": null,
   "metadata": {},
   "outputs": [],
   "source": [
    "df_pred = create_prediction(\n",
    "    model, tf_test, save_name=\"test_prediction\", save_fig=False, use_averaging=True\n",
    ")\n",
    "df_test_vs_pred = pd.concat(\n",
    "    [\n",
    "        df_pred[[\"ecg_amplitude\"]].assign(type=\"actual\"),\n",
    "        df_pred[[\"ecg_amplitude_pred\"]]\n",
    "        .rename(columns={\"ecg_amplitude_pred\": \"ecg_amplitude\"})\n",
    "        .assign(type=\"prediction\"),\n",
    "    ]\n",
    ").sort_index()\n",
    "\n",
    "# fully reset index for plotting\n",
    "df_plt_ = df_test_vs_pred[:500].reset_index(drop=True).reset_index()\n",
    "(\n",
    "    ggplot(df_plt_, aes(x=\"index\", y=\"ecg_amplitude\", color=\"type\"))\n",
    "    + geom_line(size=1, alpha=0.8)\n",
    "    + geom_point(size=1, alpha=0.8)\n",
    "    + theme_bw()\n",
    "    + theme(figure_size=(10, 6), legend_position=\"bottom\")\n",
    "    + labs(title=\"Actual vs Predicted (averaging)\", x=\"Index\", y=\"Value\", color=\"\")\n",
    ")"
   ]
  },
  {
   "cell_type": "code",
   "execution_count": null,
   "metadata": {},
   "outputs": [],
   "source": [
    "df_pred = create_prediction(\n",
    "    model, tf_test, save_name=\"test_prediction\", save_fig=False, use_averaging=False\n",
    ")\n",
    "df_test_vs_pred = pd.concat(\n",
    "    [\n",
    "        df_pred[[\"ecg_amplitude\"]].assign(type=\"actual\"),\n",
    "        df_pred[[\"ecg_amplitude_pred\"]]\n",
    "        .rename(columns={\"ecg_amplitude_pred\": \"ecg_amplitude\"})\n",
    "        .assign(type=\"prediction\"),\n",
    "    ]\n",
    ").sort_index()\n",
    "\n",
    "# fully reset index for plotting\n",
    "df_plt_ = df_test_vs_pred[:500].reset_index(drop=True).reset_index()\n",
    "(\n",
    "    ggplot(df_plt_, aes(x=\"index\", y=\"ecg_amplitude\", color=\"type\"))\n",
    "    + geom_line(size=1, alpha=0.8)\n",
    "    + geom_point(size=1, alpha=0.8)\n",
    "    + theme_bw()\n",
    "    + theme(figure_size=(10, 6), legend_position=\"bottom\")\n",
    "    + labs(title=\"Actual vs Predicted (last observation)\", x=\"Index\", y=\"Value\", color=\"\")\n",
    ")"
   ]
  },
  {
   "cell_type": "code",
   "execution_count": null,
   "metadata": {},
   "outputs": [],
   "source": [
    "figure = (\n",
    "    ggplot(df_plt_, aes(x=\"index\", y=\"ecg_amplitude\", color=\"type\"))\n",
    "    + geom_line(size=1)\n",
    "    + geom_point(size=1)\n",
    "    + theme_bw()\n",
    "    + theme(figure_size=(10, 7), legend_position=\"bottom\")\n",
    "    + labs(title=\"Actual vs Predicted\", x=\"Index\", y=\"Value\", color=\"\")\n",
    ").draw(show=False)\n",
    "\n",
    "# saving plot\n",
    "figure.savefig(\"../figures/actual_vs_predicted.png\", dpi=300)"
   ]
  },
  {
   "cell_type": "code",
   "execution_count": null,
   "metadata": {},
   "outputs": [],
   "source": [
    "sns.color_palette()"
   ]
  }
 ],
 "metadata": {
  "kernelspec": {
   "display_name": "Python 3",
   "language": "python",
   "name": "python3"
  },
  "language_info": {
   "codemirror_mode": {
    "name": "ipython",
    "version": 3
   },
   "file_extension": ".py",
   "mimetype": "text/x-python",
   "name": "python",
   "nbconvert_exporter": "python",
   "pygments_lexer": "ipython3",
   "version": "3.11.9"
  }
 },
 "nbformat": 4,
 "nbformat_minor": 2
}
